{
 "cells": [
  {
   "cell_type": "markdown",
   "metadata": {},
   "source": [
    "#### 1 - Escreva um programa que soma dois números inteiros inseridos pelo usuário.\n"
   ]
  },
  {
   "cell_type": "code",
   "execution_count": 6,
   "metadata": {},
   "outputs": [
    {
     "name": "stdout",
     "output_type": "stream",
     "text": [
      "Soma: 5\n"
     ]
    }
   ],
   "source": [
    "\n",
    "# Soma de dois números inteiros\n",
    "def soma_inteiros():\n",
    "    try:\n",
    "        a = int(input(\"Digite o primeiro número inteiro: \"))\n",
    "        b = int(input(\"Digite o segundo número inteiro: \"))\n",
    "        print(f\"Soma: {a + b}\")\n",
    "    except ValueError:\n",
    "        print(\"Por favor, insira números inteiros válidos.\")\n",
    "soma_inteiros()"
   ]
  },
  {
   "cell_type": "markdown",
   "metadata": {},
   "source": [
    "#### 2 - Crie um programa que receba um número do usuário e calcule o resto da divisão desse número por 5.\n"
   ]
  },
  {
   "cell_type": "code",
   "execution_count": 7,
   "metadata": {},
   "outputs": [
    {
     "name": "stdout",
     "output_type": "stream",
     "text": [
      "Resto da divisão por 5: 3\n"
     ]
    }
   ],
   "source": [
    "# Resto da divisão por 5\n",
    "def resto_divisao():\n",
    "    try:\n",
    "        numero = int(input(\"Digite um número inteiro: \"))\n",
    "        print(f\"Resto da divisão por 5: {numero % 5}\")\n",
    "    except ValueError:\n",
    "        print(\"Por favor, insira um número inteiro válido.\")\n",
    "\n",
    "resto_divisao()"
   ]
  },
  {
   "cell_type": "markdown",
   "metadata": {},
   "source": [
    "#### 3 - Desenvolva um programa que multiplique dois números fornecidos pelo usuário e mostre o resultado.\n"
   ]
  },
  {
   "cell_type": "code",
   "execution_count": 9,
   "metadata": {},
   "outputs": [
    {
     "name": "stdout",
     "output_type": "stream",
     "text": [
      "Multiplicação: 6\n"
     ]
    }
   ],
   "source": [
    "# Multiplicação de dois números inteiros\n",
    "def multiplicacao():\n",
    "    try:\n",
    "        a = int(input(\"Digite o primeiro número inteiro: \"))\n",
    "        b = int(input(\"Digite o segundo número inteiro: \"))\n",
    "        print(f\"Multiplicação: {a * b}\")\n",
    "    except ValueError:\n",
    "        print(\"Por favor, insira números inteiros válidos.\")\n",
    "\n",
    "multiplicacao()"
   ]
  },
  {
   "cell_type": "markdown",
   "metadata": {},
   "source": [
    "#### 4 - Faça um programa que peça dois números inteiros e imprima a divisão inteira do primeiro pelo segundo.\n"
   ]
  },
  {
   "cell_type": "code",
   "execution_count": 10,
   "metadata": {},
   "outputs": [
    {
     "name": "stdout",
     "output_type": "stream",
     "text": [
      "Divisão inteira: 2\n"
     ]
    }
   ],
   "source": [
    "# Divisão inteira\n",
    "def divisao_inteira():\n",
    "    try:\n",
    "        a = int(input(\"Digite o primeiro número inteiro: \"))\n",
    "        b = int(input(\"Digite o segundo número inteiro: \"))\n",
    "        if b == 0:\n",
    "            print(\"Erro: divisão por zero não é permitida.\")\n",
    "        else:\n",
    "            print(f\"Divisão inteira: {a // b}\")\n",
    "    except ValueError:\n",
    "        print(\"Por favor, insira números inteiros válidos.\")\n",
    "\n",
    "divisao_inteira()        "
   ]
  },
  {
   "cell_type": "markdown",
   "metadata": {},
   "source": [
    "#### 5 - Escreva um programa que calcule o quadrado de um número fornecido pelo usuário.\n"
   ]
  },
  {
   "cell_type": "code",
   "execution_count": 12,
   "metadata": {},
   "outputs": [
    {
     "name": "stdout",
     "output_type": "stream",
     "text": [
      "Quadrado: 4\n"
     ]
    }
   ],
   "source": [
    "# Quadrado de um número\n",
    "def quadrado():\n",
    "    try:\n",
    "        numero = int(input(\"Digite um número inteiro: \"))\n",
    "        print(f\"Quadrado: {numero ** 2}\")\n",
    "    except ValueError:\n",
    "        print(\"Por favor, insira um número inteiro válido.\")\n",
    "\n",
    "\n",
    "quadrado()"
   ]
  },
  {
   "cell_type": "markdown",
   "metadata": {},
   "source": []
  },
  {
   "cell_type": "markdown",
   "metadata": {},
   "source": []
  }
 ],
 "metadata": {
  "kernelspec": {
   "display_name": "Python 3",
   "language": "python",
   "name": "python3"
  },
  "language_info": {
   "codemirror_mode": {
    "name": "ipython",
    "version": 3
   },
   "file_extension": ".py",
   "mimetype": "text/x-python",
   "name": "python",
   "nbconvert_exporter": "python",
   "pygments_lexer": "ipython3",
   "version": "3.12.1"
  }
 },
 "nbformat": 4,
 "nbformat_minor": 2
}
